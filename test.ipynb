{
 "cells": [
  {
   "cell_type": "code",
   "execution_count": 2,
   "metadata": {},
   "outputs": [],
   "source": [
    "from yflive import QuoteStreamer"
   ]
  },
  {
   "cell_type": "code",
   "execution_count": 5,
   "metadata": {},
   "outputs": [
    {
     "name": "stdout",
     "output_type": "stream",
     "text": [
      "Quote({   'change': -670.5,\n",
      "    'changePercent': -0.9866602420806885,\n",
      "    'circulatingSupply': 19732162.0,\n",
      "    'currency': 'USD',\n",
      "    'dayHigh': 68230.8671875,\n",
      "    'dayLow': 67092.21875,\n",
      "    'dayVolume': 36250124288,\n",
      "    'exchange': 'CCC',\n",
      "    'fromCurrency': 'BTC',\n",
      "    'identifier': 'BTC-USD',\n",
      "    'lastSize': 36250124288,\n",
      "    'marketCap': 1327698410000.0,\n",
      "    'marketState': 1,\n",
      "    'openPrice': 67897.4140625,\n",
      "    'price': 67286.0078125,\n",
      "    'priceHint': 2,\n",
      "    'quoteType': 41,\n",
      "    'time': 1722156060000,\n",
      "    'volAllCurrencies': 36250124288,\n",
      "    'vol_24hr': 36250124288})\n"
     ]
    },
    {
     "name": "stderr",
     "output_type": "stream",
     "text": [
      "\n"
     ]
    }
   ],
   "source": [
    "qs = QuoteStreamer()\n",
    "qs.subscribe([\"BTC-USD\"]) \n",
    "\n",
    "qs.on_quote = lambda qs, q: print(q)\n",
    "\n",
    "# Non-blocking if should_thread=True (default is False)\n",
    "qs.start(should_thread=False)"
   ]
  },
  {
   "cell_type": "code",
   "execution_count": null,
   "metadata": {},
   "outputs": [],
   "source": []
  }
 ],
 "metadata": {
  "kernelspec": {
   "display_name": "trading-dashboard",
   "language": "python",
   "name": "python3"
  },
  "language_info": {
   "codemirror_mode": {
    "name": "ipython",
    "version": 3
   },
   "file_extension": ".py",
   "mimetype": "text/x-python",
   "name": "python",
   "nbconvert_exporter": "python",
   "pygments_lexer": "ipython3",
   "version": "3.12.4"
  }
 },
 "nbformat": 4,
 "nbformat_minor": 2
}
