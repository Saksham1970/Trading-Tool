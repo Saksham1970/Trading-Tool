{
 "cells": [
  {
   "cell_type": "code",
   "execution_count": 1,
   "metadata": {},
   "outputs": [],
   "source": [
    "from yflive import QuoteStreamer"
   ]
  },
  {
   "cell_type": "code",
   "execution_count": 2,
   "metadata": {},
   "outputs": [
    {
     "name": "stdout",
     "output_type": "stream",
     "text": [
      "Quote({   'change': 55.60009765625,\n",
      "    'changePercent': 1.332329273223877,\n",
      "    'dayVolume': 658523,\n",
      "    'exchange': 'NSI',\n",
      "    'identifier': 'TCS.NS',\n",
      "    'lastSize': 139,\n",
      "    'marketState': 1,\n",
      "    'price': 4228.14990234375,\n",
      "    'priceHint': 2,\n",
      "    'quoteType': 8,\n",
      "    'time': 1723187693000})\n",
      "Quote({   'change': 55.5,\n",
      "    'changePercent': 1.330090045928955,\n",
      "    'dayVolume': 658402,\n",
      "    'exchange': 'NSI',\n",
      "    'identifier': 'TCS.NS',\n",
      "    'lastSize': 4,\n",
      "    'marketState': 1,\n",
      "    'price': 4228.0498046875,\n",
      "    'priceHint': 2,\n",
      "    'quoteType': 8,\n",
      "    'time': 1723187694000})\n",
      "Quote({   'change': 54.60009765625,\n",
      "    'changePercent': 1.3082882165908813,\n",
      "    'dayVolume': 658572,\n",
      "    'exchange': 'NSI',\n",
      "    'identifier': 'TCS.NS',\n",
      "    'lastSize': 1,\n",
      "    'marketState': 1,\n",
      "    'price': 4227.14990234375,\n",
      "    'priceHint': 2,\n",
      "    'quoteType': 8,\n",
      "    'time': 1723187696000})\n",
      "Quote({   'change': 54.4501953125,\n",
      "    'changePercent': 1.3049153089523315,\n",
      "    'dayVolume': 658621,\n",
      "    'exchange': 'NSI',\n",
      "    'identifier': 'TCS.NS',\n",
      "    'lastSize': 15,\n",
      "    'marketState': 1,\n",
      "    'price': 4227.0,\n",
      "    'priceHint': 2,\n",
      "    'quoteType': 8,\n",
      "    'time': 1723187697000})\n",
      "Quote({   'change': 54.400390625,\n",
      "    'changePercent': 1.3037528991699219,\n",
      "    'dayVolume': 658609,\n",
      "    'exchange': 'NSI',\n",
      "    'identifier': 'TCS.NS',\n",
      "    'lastSize': 1,\n",
      "    'marketState': 1,\n",
      "    'price': 4226.9501953125,\n",
      "    'priceHint': 2,\n",
      "    'quoteType': 8,\n",
      "    'time': 1723187698000})\n",
      "Quote({   'change': 53.7001953125,\n",
      "    'changePercent': 1.286771535873413,\n",
      "    'dayVolume': 658743,\n",
      "    'exchange': 'NSI',\n",
      "    'identifier': 'TCS.NS',\n",
      "    'lastSize': 14,\n",
      "    'marketState': 1,\n",
      "    'price': 4226.25,\n",
      "    'priceHint': 2,\n",
      "    'quoteType': 8,\n",
      "    'time': 1723187699000})\n"
     ]
    },
    {
     "name": "stderr",
     "output_type": "stream",
     "text": [
      "\n"
     ]
    }
   ],
   "source": [
    "qs = QuoteStreamer()\n",
    "qs.subscribe([\"TCS.NS\"]) \n",
    "\n",
    "qs.on_quote = lambda qs, q: print(q)\n",
    "\n",
    "# Non-blocking if should_thread=True (default is False)\n",
    "qs.start(should_thread=False)"
   ]
  },
  {
   "cell_type": "code",
   "execution_count": null,
   "metadata": {},
   "outputs": [],
   "source": []
  }
 ],
 "metadata": {
  "kernelspec": {
   "display_name": "trading-dashboard",
   "language": "python",
   "name": "python3"
  },
  "language_info": {
   "codemirror_mode": {
    "name": "ipython",
    "version": 3
   },
   "file_extension": ".py",
   "mimetype": "text/x-python",
   "name": "python",
   "nbconvert_exporter": "python",
   "pygments_lexer": "ipython3",
   "version": "3.12.4"
  }
 },
 "nbformat": 4,
 "nbformat_minor": 2
}
